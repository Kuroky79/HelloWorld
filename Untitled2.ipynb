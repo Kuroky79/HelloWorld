{
  "nbformat": 4,
  "nbformat_minor": 0,
  "metadata": {
    "colab": {
      "name": "Untitled2.ipynb",
      "provenance": [],
      "authorship_tag": "ABX9TyOWn3vt2hKOZs9OnYwjr4bH",
      "include_colab_link": true
    },
    "kernelspec": {
      "name": "python3",
      "display_name": "Python 3"
    },
    "language_info": {
      "name": "python"
    }
  },
  "cells": [
    {
      "cell_type": "markdown",
      "metadata": {
        "id": "view-in-github",
        "colab_type": "text"
      },
      "source": [
        "<a href=\"https://colab.research.google.com/github/Kuroky79/HelloWorld/blob/master/Untitled2.ipynb\" target=\"_parent\"><img src=\"https://colab.research.google.com/assets/colab-badge.svg\" alt=\"Open In Colab\"/></a>"
      ]
    },
    {
      "cell_type": "code",
      "metadata": {
        "id": "roOvtxLzSLeI"
      },
      "source": [
        "import pandas as pd\n",
        "import numpy as np\n",
        "from scipy import sparse \n",
        "from sklearn.preprocessing import normalize"
      ],
      "execution_count": 1,
      "outputs": []
    },
    {
      "cell_type": "code",
      "metadata": {
        "id": "AKfzA5Xx7sCW"
      },
      "source": [
        "interactions_df = pd.read_csv(\"dataset/lastfm_user_scrobbles.csv\")\n",
        "titles_df = pd.read_csv(\"dataset/lastfm_artist_list.csv\")"
      ],
      "execution_count": 13,
      "outputs": []
    },
    {
      "cell_type": "code",
      "metadata": {
        "colab": {
          "base_uri": "https://localhost:8080/",
          "height": 424
        },
        "id": "JU3Mqmr7-Bzc",
        "outputId": "c65509e6-568b-4b07-a263-b35418550352"
      },
      "source": [
        "interactions_df"
      ],
      "execution_count": 11,
      "outputs": [
        {
          "output_type": "execute_result",
          "data": {
            "text/html": [
              "<div>\n",
              "<style scoped>\n",
              "    .dataframe tbody tr th:only-of-type {\n",
              "        vertical-align: middle;\n",
              "    }\n",
              "\n",
              "    .dataframe tbody tr th {\n",
              "        vertical-align: top;\n",
              "    }\n",
              "\n",
              "    .dataframe thead th {\n",
              "        text-align: right;\n",
              "    }\n",
              "</style>\n",
              "<table border=\"1\" class=\"dataframe\">\n",
              "  <thead>\n",
              "    <tr style=\"text-align: right;\">\n",
              "      <th></th>\n",
              "      <th>user_id</th>\n",
              "      <th>artist_id</th>\n",
              "      <th>scrobbles</th>\n",
              "    </tr>\n",
              "  </thead>\n",
              "  <tbody>\n",
              "    <tr>\n",
              "      <th>0</th>\n",
              "      <td>1</td>\n",
              "      <td>4562</td>\n",
              "      <td>13883</td>\n",
              "    </tr>\n",
              "    <tr>\n",
              "      <th>1</th>\n",
              "      <td>1</td>\n",
              "      <td>10191</td>\n",
              "      <td>11690</td>\n",
              "    </tr>\n",
              "    <tr>\n",
              "      <th>2</th>\n",
              "      <td>1</td>\n",
              "      <td>494</td>\n",
              "      <td>11351</td>\n",
              "    </tr>\n",
              "    <tr>\n",
              "      <th>3</th>\n",
              "      <td>1</td>\n",
              "      <td>6673</td>\n",
              "      <td>10300</td>\n",
              "    </tr>\n",
              "    <tr>\n",
              "      <th>4</th>\n",
              "      <td>1</td>\n",
              "      <td>8402</td>\n",
              "      <td>8983</td>\n",
              "    </tr>\n",
              "    <tr>\n",
              "      <th>...</th>\n",
              "      <td>...</td>\n",
              "      <td>...</td>\n",
              "      <td>...</td>\n",
              "    </tr>\n",
              "    <tr>\n",
              "      <th>92787</th>\n",
              "      <td>1892</td>\n",
              "      <td>10098</td>\n",
              "      <td>278</td>\n",
              "    </tr>\n",
              "    <tr>\n",
              "      <th>92788</th>\n",
              "      <td>1892</td>\n",
              "      <td>8660</td>\n",
              "      <td>263</td>\n",
              "    </tr>\n",
              "    <tr>\n",
              "      <th>92789</th>\n",
              "      <td>1892</td>\n",
              "      <td>3274</td>\n",
              "      <td>258</td>\n",
              "    </tr>\n",
              "    <tr>\n",
              "      <th>92790</th>\n",
              "      <td>1892</td>\n",
              "      <td>4240</td>\n",
              "      <td>232</td>\n",
              "    </tr>\n",
              "    <tr>\n",
              "      <th>92791</th>\n",
              "      <td>1892</td>\n",
              "      <td>10842</td>\n",
              "      <td>228</td>\n",
              "    </tr>\n",
              "  </tbody>\n",
              "</table>\n",
              "<p>92792 rows × 3 columns</p>\n",
              "</div>"
            ],
            "text/plain": [
              "       user_id  artist_id  scrobbles\n",
              "0            1       4562      13883\n",
              "1            1      10191      11690\n",
              "2            1        494      11351\n",
              "3            1       6673      10300\n",
              "4            1       8402       8983\n",
              "...        ...        ...        ...\n",
              "92787     1892      10098        278\n",
              "92788     1892       8660        263\n",
              "92789     1892       3274        258\n",
              "92790     1892       4240        232\n",
              "92791     1892      10842        228\n",
              "\n",
              "[92792 rows x 3 columns]"
            ]
          },
          "metadata": {},
          "execution_count": 11
        }
      ]
    },
    {
      "cell_type": "code",
      "metadata": {
        "colab": {
          "base_uri": "https://localhost:8080/",
          "height": 424
        },
        "id": "77N9kFWD-Eg9",
        "outputId": "4e4113c4-0faf-47e5-822a-6389dcbf1a77"
      },
      "source": [
        "titles_df"
      ],
      "execution_count": 14,
      "outputs": [
        {
          "output_type": "execute_result",
          "data": {
            "text/html": [
              "<div>\n",
              "<style scoped>\n",
              "    .dataframe tbody tr th:only-of-type {\n",
              "        vertical-align: middle;\n",
              "    }\n",
              "\n",
              "    .dataframe tbody tr th {\n",
              "        vertical-align: top;\n",
              "    }\n",
              "\n",
              "    .dataframe thead th {\n",
              "        text-align: right;\n",
              "    }\n",
              "</style>\n",
              "<table border=\"1\" class=\"dataframe\">\n",
              "  <thead>\n",
              "    <tr style=\"text-align: right;\">\n",
              "      <th></th>\n",
              "      <th>artist_id</th>\n",
              "      <th>artist_name</th>\n",
              "    </tr>\n",
              "  </thead>\n",
              "  <tbody>\n",
              "    <tr>\n",
              "      <th>0</th>\n",
              "      <td>1</td>\n",
              "      <td>__Max__</td>\n",
              "    </tr>\n",
              "    <tr>\n",
              "      <th>1</th>\n",
              "      <td>2</td>\n",
              "      <td>_Algol_</td>\n",
              "    </tr>\n",
              "    <tr>\n",
              "      <th>2</th>\n",
              "      <td>3</td>\n",
              "      <td>-123 Min.</td>\n",
              "    </tr>\n",
              "    <tr>\n",
              "      <th>3</th>\n",
              "      <td>4</td>\n",
              "      <td>-Oz-</td>\n",
              "    </tr>\n",
              "    <tr>\n",
              "      <th>4</th>\n",
              "      <td>5</td>\n",
              "      <td>-T De Sangre</td>\n",
              "    </tr>\n",
              "    <tr>\n",
              "      <th>...</th>\n",
              "      <td>...</td>\n",
              "      <td>...</td>\n",
              "    </tr>\n",
              "    <tr>\n",
              "      <th>17488</th>\n",
              "      <td>17489</td>\n",
              "      <td>鷺巣詩郎</td>\n",
              "    </tr>\n",
              "    <tr>\n",
              "      <th>17489</th>\n",
              "      <td>17490</td>\n",
              "      <td>黃立行</td>\n",
              "    </tr>\n",
              "    <tr>\n",
              "      <th>17490</th>\n",
              "      <td>17491</td>\n",
              "      <td>黄义达</td>\n",
              "    </tr>\n",
              "    <tr>\n",
              "      <th>17491</th>\n",
              "      <td>17492</td>\n",
              "      <td>黒木メイサ</td>\n",
              "    </tr>\n",
              "    <tr>\n",
              "      <th>17492</th>\n",
              "      <td>17493</td>\n",
              "      <td>鼓童</td>\n",
              "    </tr>\n",
              "  </tbody>\n",
              "</table>\n",
              "<p>17493 rows × 2 columns</p>\n",
              "</div>"
            ],
            "text/plain": [
              "       artist_id   artist_name\n",
              "0              1       __Max__\n",
              "1              2       _Algol_\n",
              "2              3     -123 Min.\n",
              "3              4          -Oz-\n",
              "4              5  -T De Sangre\n",
              "...          ...           ...\n",
              "17488      17489          鷺巣詩郎\n",
              "17489      17490           黃立行\n",
              "17490      17491           黄义达\n",
              "17491      17492         黒木メイサ\n",
              "17492      17493            鼓童\n",
              "\n",
              "[17493 rows x 2 columns]"
            ]
          },
          "metadata": {},
          "execution_count": 14
        }
      ]
    },
    {
      "cell_type": "code",
      "metadata": {
        "colab": {
          "base_uri": "https://localhost:8080/"
        },
        "id": "qQcJC0lz-ee6",
        "outputId": "bd9c151f-948f-4bff-b4e6-88b6d3032ab2"
      },
      "source": [
        "interactions_df.groupby(\"user_id\").count().mean()"
      ],
      "execution_count": 16,
      "outputs": [
        {
          "output_type": "execute_result",
          "data": {
            "text/plain": [
              "artist_id    49.044397\n",
              "scrobbles    49.044397\n",
              "dtype: float64"
            ]
          },
          "metadata": {},
          "execution_count": 16
        }
      ]
    },
    {
      "cell_type": "code",
      "metadata": {
        "id": "DRF8bPEc-2QC"
      },
      "source": [
        "titles_df.index = titles_df[\"artist_id\"]\n",
        "title_direct = titles_df[\"artist_name\"].to_dict()"
      ],
      "execution_count": 18,
      "outputs": []
    },
    {
      "cell_type": "code",
      "metadata": {
        "id": "Xzd6KqLO_Lh5"
      },
      "source": [
        "rows, r_pos = np.unique(interactions_df.values[:,0], return_inverse =True)\n",
        "cols, c_pos = np.unique(interactions_df.values[:,1], return_inverse =True)"
      ],
      "execution_count": 33,
      "outputs": []
    },
    {
      "cell_type": "code",
      "metadata": {
        "id": "GgPzEYAJ_vKH"
      },
      "source": [
        "interactions_sparse = sparse.csr_matrix((interactions_df.values[:,2], (r_pos, c_pos)))"
      ],
      "execution_count": 36,
      "outputs": []
    },
    {
      "cell_type": "code",
      "metadata": {
        "colab": {
          "base_uri": "https://localhost:8080/"
        },
        "id": "m9x4VFs2CRsa",
        "outputId": "b78c7d7a-c402-4d14-cc8a-e1b4ca7f2cd5"
      },
      "source": [
        "interactions_sparse"
      ],
      "execution_count": 41,
      "outputs": [
        {
          "output_type": "execute_result",
          "data": {
            "text/plain": [
              "<1892x17493 sparse matrix of type '<class 'numpy.longlong'>'\n",
              "\twith 92723 stored elements in Compressed Sparse Row format>"
            ]
          },
          "metadata": {},
          "execution_count": 41
        }
      ]
    },
    {
      "cell_type": "code",
      "metadata": {
        "id": "BEWHYsVLCYEJ"
      },
      "source": [
        "Pui = normalize(interactions_sparse, norm='l2', axis=1)\n",
        "sim = Pui.T * Pui"
      ],
      "execution_count": 42,
      "outputs": []
    },
    {
      "cell_type": "code",
      "metadata": {
        "colab": {
          "base_uri": "https://localhost:8080/"
        },
        "id": "LhFWIpY8C7Md",
        "outputId": "3ce92618-9caf-4fc6-c422-e975905cee1f"
      },
      "source": [
        "sim.todense()"
      ],
      "execution_count": 43,
      "outputs": [
        {
          "output_type": "execute_result",
          "data": {
            "text/plain": [
              "matrix([[0.00120405, 0.        , 0.        , ..., 0.        , 0.        ,\n",
              "         0.        ],\n",
              "        [0.        , 0.00258841, 0.        , ..., 0.        , 0.        ,\n",
              "         0.        ],\n",
              "        [0.        , 0.        , 0.00383689, ..., 0.        , 0.        ,\n",
              "         0.        ],\n",
              "        ...,\n",
              "        [0.        , 0.        , 0.        , ..., 0.0228355 , 0.        ,\n",
              "         0.        ],\n",
              "        [0.        , 0.        , 0.        , ..., 0.        , 0.00827076,\n",
              "         0.        ],\n",
              "        [0.        , 0.        , 0.        , ..., 0.        , 0.        ,\n",
              "         0.0010429 ]])"
            ]
          },
          "metadata": {},
          "execution_count": 43
        }
      ]
    },
    {
      "cell_type": "code",
      "metadata": {
        "colab": {
          "base_uri": "https://localhost:8080/"
        },
        "id": "hewqDcSLEXD3",
        "outputId": "7dc3b0a6-b822-41a7-c13a-7a6c0b8811c9"
      },
      "source": [
        "[title_direct[i+1] for i in sim[10699].toarray().argsort()[0][-20:]]"
      ],
      "execution_count": 57,
      "outputs": [
        {
          "output_type": "execute_result",
          "data": {
            "text/plain": [
              "['Erik Truffaz',\n",
              " 'Birdy Nam Nam',\n",
              " 'Iannis Xenakis',\n",
              " 'Little Dragon',\n",
              " 'Dorian Concept',\n",
              " 'Bjornstad',\n",
              " 'John Abercrombie',\n",
              " 'Philip Glass',\n",
              " 'Portishead',\n",
              " 'King Crimson',\n",
              " 'Puma',\n",
              " 'Björk',\n",
              " 'Supersilent',\n",
              " 'Stian Westerhus',\n",
              " 'John Zorn',\n",
              " 'Arve Henriksen',\n",
              " 'Arvo Pärt',\n",
              " 'Nils Petter Molvær',\n",
              " 'Eivind Aarset',\n",
              " 'Laurie Anderson']"
            ]
          },
          "metadata": {},
          "execution_count": 57
        }
      ]
    },
    {
      "cell_type": "code",
      "metadata": {
        "id": "nDcR8JyuKA9a"
      },
      "source": [
        "interactions_sparse_transported = interactions_sparse.transpose(copy=True)\n",
        "Piu = normalize(interactions_sparse_transported, norm='l2', axis=1)\n",
        "fit = Pui*Piu*Pui"
      ],
      "execution_count": 52,
      "outputs": []
    },
    {
      "cell_type": "code",
      "metadata": {
        "colab": {
          "base_uri": "https://localhost:8080/"
        },
        "id": "uagl-tVbK8H3",
        "outputId": "02059a04-4ae3-4c6c-9dd9-d054186c2125"
      },
      "source": [
        "fit.shape"
      ],
      "execution_count": 53,
      "outputs": [
        {
          "output_type": "execute_result",
          "data": {
            "text/plain": [
              "(1892, 17493)"
            ]
          },
          "metadata": {},
          "execution_count": 53
        }
      ]
    },
    {
      "cell_type": "code",
      "metadata": {
        "colab": {
          "base_uri": "https://localhost:8080/"
        },
        "id": "cYr47UMQLB8J",
        "outputId": "5f12d999-65e7-471a-ddf4-26845c8ee592"
      },
      "source": [
        "[title_direct[i+1] for i in np.nonzero(interactions_sparse[520])[1].tolist()]"
      ],
      "execution_count": 62,
      "outputs": [
        {
          "output_type": "execute_result",
          "data": {
            "text/plain": [
              "['10 Years',\n",
              " 'Alison Krauss',\n",
              " 'Anathema',\n",
              " 'Apoptygma Berzerk',\n",
              " 'Assemblage 23',\n",
              " 'Ayria',\n",
              " 'Bella Morte',\n",
              " 'Beyond The Void',\n",
              " 'Black Light Burns',\n",
              " 'Blue Öyster Cult',\n",
              " 'Blutengel',\n",
              " 'Covenant',\n",
              " 'Dead Can Dance',\n",
              " 'Depeche Mode',\n",
              " 'Emilie Autumn',\n",
              " 'Great Northern',\n",
              " 'I:Scintilla',\n",
              " 'Icon Of Coil',\n",
              " 'Idlewild',\n",
              " 'Imperative Reaction',\n",
              " 'Inkubus Sukkubus',\n",
              " 'Jack Off Jill',\n",
              " 'Juno Reactor',\n",
              " 'Lacuna Coil',\n",
              " 'Le Mystere Des Voix Bulgares',\n",
              " 'Live',\n",
              " 'Mind.In.A.Box',\n",
              " 'Neuroticfish',\n",
              " 'New Model Army',\n",
              " 'Paradise Lost',\n",
              " 'Paramore',\n",
              " 'Pearl Jam',\n",
              " 'Placebo',\n",
              " 'Plumb',\n",
              " 'Psyclon Nine',\n",
              " 'Scarling.',\n",
              " 'Screaming Lights',\n",
              " 'She Wants Revenge',\n",
              " 'Tapping The Vein',\n",
              " 'The 69 Eyes',\n",
              " 'The Birthday Massacre',\n",
              " 'The Black Angels',\n",
              " 'The Crüxshadows',\n",
              " 'The Cure',\n",
              " 'The Longcut',\n",
              " 'The Sisters Of Mercy',\n",
              " 'Vast',\n",
              " 'Vibrasphere',\n",
              " 'Vnv Nation',\n",
              " 'Within Temptation']"
            ]
          },
          "metadata": {},
          "execution_count": 62
        }
      ]
    },
    {
      "cell_type": "code",
      "metadata": {
        "colab": {
          "base_uri": "https://localhost:8080/"
        },
        "id": "SWfq1yPcQjxp",
        "outputId": "95cbbd09-5156-432d-862a-8735c512726f"
      },
      "source": [
        "[title_direct[i+1] for i in sim[10699].toarray().argsort()[0][-70:]]"
      ],
      "execution_count": 63,
      "outputs": [
        {
          "output_type": "execute_result",
          "data": {
            "text/plain": [
              "['George Thorogood',\n",
              " 'George Thorogood & The Destroyers',\n",
              " 'Geomatic',\n",
              " 'Gencab',\n",
              " 'General Patton Vs. The X-Ecutioners',\n",
              " 'Geddy Lee',\n",
              " 'Gazebo',\n",
              " 'Gemma Hayes',\n",
              " 'Gbh',\n",
              " 'Gd&Top',\n",
              " 'Gay Fairy Tales',\n",
              " 'Gavin Rossdale',\n",
              " 'Gavin Harrison & 05ric',\n",
              " 'Gehenna',\n",
              " 'Gavin Friday',\n",
              " 'Gazpacho',\n",
              " 'Gavin Degraw',\n",
              " 'Geinoh Yamashiro-Gumi',\n",
              " 'Gemini Five',\n",
              " 'Gemelli Diversi',\n",
              " 'Jan Bang',\n",
              " 'Kissey Asplund',\n",
              " 'Xploding Plastix',\n",
              " 'Jon Hassell',\n",
              " 'The Roots',\n",
              " 'Tom Waits',\n",
              " 'Aphex Twin',\n",
              " 'Live Maria Roggen',\n",
              " 'Eberhard Weber',\n",
              " 'The Kilimanjaro Darkjazz Ensemble',\n",
              " 'Brian Eno & J. Peter Schwalm',\n",
              " 'Håkon Kornstad',\n",
              " 'The Mount Fuji Doomjazz Corporation',\n",
              " 'Brian Eno & Jah Wobble',\n",
              " 'Arild Andersen Group',\n",
              " \"Nik Bärtsch's Ronin\",\n",
              " 'Terje Rypdal',\n",
              " 'Ursula Rucker',\n",
              " 'Kurt Rosenwinkel',\n",
              " 'Steve Coleman And Five Elements',\n",
              " 'Avishai Cohen',\n",
              " 'Wibutee',\n",
              " 'Dimlite',\n",
              " 'Sidsel Endresen & Bugge Wesseltoft',\n",
              " 'Fantomas',\n",
              " 'Jan Garbarek Group',\n",
              " 'Othin Spake',\n",
              " 'Murcof',\n",
              " 'Serdar Ateser',\n",
              " 'Ry Cooder',\n",
              " 'Erik Truffaz',\n",
              " 'Birdy Nam Nam',\n",
              " 'Iannis Xenakis',\n",
              " 'Little Dragon',\n",
              " 'Dorian Concept',\n",
              " 'Bjornstad',\n",
              " 'John Abercrombie',\n",
              " 'Philip Glass',\n",
              " 'Portishead',\n",
              " 'King Crimson',\n",
              " 'Puma',\n",
              " 'Björk',\n",
              " 'Supersilent',\n",
              " 'Stian Westerhus',\n",
              " 'John Zorn',\n",
              " 'Arve Henriksen',\n",
              " 'Arvo Pärt',\n",
              " 'Nils Petter Molvær',\n",
              " 'Eivind Aarset',\n",
              " 'Laurie Anderson']"
            ]
          },
          "metadata": {},
          "execution_count": 63
        }
      ]
    }
  ]
}